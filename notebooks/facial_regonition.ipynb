{
 "cells": [
  {
   "cell_type": "code",
   "execution_count": 1,
   "id": "f8f9b32a-9cea-4317-9b9f-a2caaa1065c0",
   "metadata": {},
   "outputs": [],
   "source": [
    "import os\n",
    "import shutil\n",
    "import cv2\n",
    "import numpy as np\n",
    "import pathlib\n",
    "import joblib\n",
    "from matplotlib import pyplot as plt\n",
    "from sklearn.utils import shuffle"
   ]
  },
  {
   "cell_type": "markdown",
   "id": "32d0d734-4d79-42af-88a8-446489c81e1e",
   "metadata": {},
   "source": [
    "### Threshold the data set, images that are >= 20"
   ]
  },
  {
   "cell_type": "code",
   "execution_count": null,
   "id": "3f1f4bf9-78f1-4fac-adef-a0fa4f9dc3af",
   "metadata": {},
   "outputs": [],
   "source": [
    "# Path to the original dataset folder\n",
    "original_dataset_path = 'lfw_funneled'\n",
    "\n",
    "# Path to the new threshold dataset folder\n",
    "threshold_dataset_path = 'threshold_dataset'\n",
    "\n",
    "# Create the new folder if it doesn't exist\n",
    "if not os.path.exists(threshold_dataset_path):\n",
    "    os.makedirs(threshold_dataset_path)\n",
    "\n",
    "# Set the threshold for the minimum number of images\n",
    "threshold = 20\n",
    "\n",
    "# Loop through each subfolder (individual's folder) in the original dataset\n",
    "for individual_folder in os.listdir(original_dataset_path):\n",
    "    individual_folder_path = os.path.join(original_dataset_path, individual_folder)\n",
    "\n",
    "    # Check if it's a directory\n",
    "    if os.path.isdir(individual_folder_path):\n",
    "\n",
    "        # Count the number of images in the individual's folder\n",
    "        num_images = len(os.listdir(individual_folder_path))\n",
    "\n",
    "        # Check if the number of images meets the threshold\n",
    "        if num_images >= threshold:\n",
    "\n",
    "            # Create a new folder in the threshold dataset path\n",
    "            new_folder_path = os.path.join(threshold_dataset_path, individual_folder)\n",
    "\n",
    "            # Check if the destination folder already exists\n",
    "            if not os.path.exists(new_folder_path):\n",
    "\n",
    "                # Copy all the images from the original folder to the new folder\n",
    "                shutil.copytree(individual_folder_path, new_folder_path)\n",
    "\n",
    "                print(f\"{individual_folder} added to the threshold dataset.\")\n",
    "            else:\n",
    "                print(f\"{individual_folder} already exists in the threshold dataset.\")"
   ]
  },
  {
   "cell_type": "markdown",
   "id": "a8510196-8000-44b7-bcf7-bf92f15f350b",
   "metadata": {},
   "source": [
    "### Function for Pre-processing images"
   ]
  },
  {
   "cell_type": "markdown",
   "id": "ea7530b9-efc0-45d4-990b-c462927e2dbe",
   "metadata": {},
   "source": [
    "Define a variable call face_classifier to contain the file for facial detection"
   ]
  },
  {
   "cell_type": "code",
   "execution_count": 2,
   "id": "311574f0-5e88-4414-8f64-010dea9adc78",
   "metadata": {},
   "outputs": [],
   "source": [
    "# Define the face classifier\n",
    "face_classifier = cv2.CascadeClassifier(cv2.data.haarcascades + \"haarcascade_frontalface_default.xml\")"
   ]
  },
  {
   "cell_type": "code",
   "execution_count": 3,
   "id": "4327811c-8b12-4470-81e6-b63b1607015b",
   "metadata": {},
   "outputs": [],
   "source": [
    "def preprocess_and_crop_image(face_classifier: cv2.CascadeClassifier, image, target_size=(64, 64), x=100, y=100, crop_width=800, crop_height=800):\n",
    "    # Load the image using OpenCV\n",
    "    img = cv2.imread(image)\n",
    "\n",
    "    # Convert the image to grayscale if it's in color\n",
    "    gray_img = cv2.cvtColor(img, cv2.COLOR_BGR2GRAY)\n",
    "\n",
    "    # Detect faces in the grayscale image\n",
    "    faces = face_classifier.detectMultiScale(gray_img, scaleFactor=1.1, minNeighbors=5, minSize=(30, 30))\n",
    "\n",
    "    # If faces are detected, crop and save them\n",
    "    if len(faces) > 0:\n",
    "        # Create a copy of the original image\n",
    "        img_copy = img.copy()\n",
    "        for i, (x, y, w, h) in enumerate(faces):\n",
    "            cv2.rectangle(img_copy, (x, y), (x+w, y+h), (0, 0, 255), 2)\n",
    "            # Crop the detected face\n",
    "            cropped_face = gray_img[y:y + h, x:x + w]\n",
    "\n",
    "            # Resize the cropped face to the target size\n",
    "            cropped_face = cv2.resize(cropped_face, target_size)\n",
    "\n",
    "            # Normalize the cropped face to have values in the range [0, 1]\n",
    "            cropped_face = cropped_face.astype('float32') / 255.0\n",
    "\n",
    "        return cropped_face\n",
    "\n",
    "    # If no faces are detected\n",
    "    else:\n",
    "        print(f\"No face detected on {image}, so do a normal crop\")\n",
    "\n",
    "        # Crop the image\n",
    "        cropped_img = gray_img[y:y + crop_height, x:x + crop_width]\n",
    "\n",
    "        # Resize the cropped image to the target size\n",
    "        cropped_img = cv2.resize(cropped_img, target_size)\n",
    "\n",
    "        # Normalize the image to have values in the range [0, 1]\n",
    "        cropped_img = cropped_img.astype('float32') / 255.0\n",
    "\n",
    "        return cropped_img"
   ]
  },
  {
   "cell_type": "markdown",
   "id": "4e572f36-535b-4f55-9268-458620917716",
   "metadata": {},
   "source": [
    "### Load the data set and store in X and y"
   ]
  },
  {
   "cell_type": "code",
   "execution_count": 4,
   "id": "392528be-473a-4457-9925-926f18613f19",
   "metadata": {},
   "outputs": [
    {
     "name": "stdout",
     "output_type": "stream",
     "text": [
      "No face detected on threshold_dataset\\Arnold_Schwarzenegger\\Arnold_Schwarzenegger_0036.jpg, so do a normal crop\n",
      "No face detected on threshold_dataset\\Atal_Bihari_Vajpayee\\Atal_Bihari_Vajpayee_0020.jpg, so do a normal crop\n",
      "No face detected on threshold_dataset\\Colin_Powell\\Colin_Powell_0185.jpg, so do a normal crop\n",
      "No face detected on threshold_dataset\\George_W_Bush\\George_W_Bush_0157.jpg, so do a normal crop\n",
      "No face detected on threshold_dataset\\Gerhard_Schroeder\\Gerhard_Schroeder_0100.jpg, so do a normal crop\n",
      "No face detected on threshold_dataset\\Gray_Davis\\Gray_Davis_0025.jpg, so do a normal crop\n",
      "No face detected on threshold_dataset\\Lindsay_Davenport\\Lindsay_Davenport_0015.jpg, so do a normal crop\n",
      "No face detected on threshold_dataset\\Ricardo_Lagos\\Ricardo_Lagos_0005.jpg, so do a normal crop\n",
      "No face detected on threshold_dataset\\Serena_Williams\\Serena_Williams_0002.jpg, so do a normal crop\n",
      "No face detected on threshold_dataset\\Serena_Williams\\Serena_Williams_0004.jpg, so do a normal crop\n",
      "No face detected on threshold_dataset\\Serena_Williams\\Serena_Williams_0011.jpg, so do a normal crop\n",
      "No face detected on threshold_dataset\\Serena_Williams\\Serena_Williams_0016.jpg, so do a normal crop\n",
      "No face detected on threshold_dataset\\Serena_Williams\\Serena_Williams_0042.jpg, so do a normal crop\n",
      "No face detected on threshold_dataset\\Silvio_Berlusconi\\Silvio_Berlusconi_0015.jpg, so do a normal crop\n"
     ]
    }
   ],
   "source": [
    "# Set the path to the preprocessed images\n",
    "data_path = 'threshold_dataset'\n",
    "\n",
    "# Initialize empty lists to store features and labels\n",
    "X = []\n",
    "y = []\n",
    "\n",
    "# Loop through each subfolder (individual's folder) in the dataset\n",
    "for person_folder in os.listdir(data_path):\n",
    "    person_folder_path = os.path.join(data_path, person_folder)\n",
    "\n",
    "    # Check if it's a directory\n",
    "    if os.path.isdir(person_folder_path):\n",
    "\n",
    "        # Loop through each image in the individual's folder\n",
    "        for filename in os.listdir(person_folder_path):\n",
    "            if filename.lower().endswith('.jpg'):\n",
    "                image_path = os.path.join(person_folder_path, filename)\n",
    "\n",
    "                # Load and preprocess the image\n",
    "                preprocessed_image = preprocess_and_crop_image(face_classifier, image_path)\n",
    "\n",
    "                # Flatten the preprocessed image to use it as a feature vector\n",
    "                flattened_image = preprocessed_image.flatten()\n",
    "\n",
    "                # Extract the label from the folder name\n",
    "                label = person_folder.split(\"_\")[0] + \"_\" + person_folder.split(\"_\")[1]\n",
    "\n",
    "                # Append the flattened image and label to the feature list\n",
    "                X.append(flattened_image)\n",
    "                y.append(label)\n",
    "\n",
    "# Convert lists to NumPy arrays\n",
    "X = np.array(X)\n",
    "y = np.array(y)"
   ]
  },
  {
   "cell_type": "markdown",
   "id": "53761393-ec71-4aeb-aba9-9af94b71d154",
   "metadata": {},
   "source": [
    "### Shuffle the data"
   ]
  },
  {
   "cell_type": "code",
   "execution_count": 5,
   "id": "084b7f4f-cffb-44eb-93af-a5dad3bdca69",
   "metadata": {},
   "outputs": [],
   "source": [
    "# Shuffle the data\n",
    "X, y = shuffle(X, y, random_state=42)"
   ]
  },
  {
   "cell_type": "markdown",
   "id": "773db096-6eed-4db4-a5f1-0ac2ed50c10d",
   "metadata": {},
   "source": [
    "### Split the data set"
   ]
  },
  {
   "cell_type": "code",
   "execution_count": 6,
   "id": "4871fc7d-b6e7-4d2b-b83f-89ee78737c39",
   "metadata": {},
   "outputs": [],
   "source": [
    "from sklearn.model_selection import train_test_split\n",
    "# Split the data into training and testing sets\n",
    "X_train, X_test, y_train, y_test = train_test_split(X, y, test_size=0.25, random_state=42)"
   ]
  },
  {
   "cell_type": "markdown",
   "id": "bbd2935d-d48f-4a6a-b195-f8451e6249c2",
   "metadata": {},
   "source": [
    "### Normalize the images in both set"
   ]
  },
  {
   "cell_type": "code",
   "execution_count": 7,
   "id": "e791502a-b0b6-4f78-b738-f534fd3c0905",
   "metadata": {},
   "outputs": [],
   "source": [
    "# Normalize pixel values to the range [0, 1]\n",
    "X_train = X_train.astype('float32') / 255.0\n",
    "X_test = X_test.astype('float32') / 255.0"
   ]
  },
  {
   "cell_type": "markdown",
   "id": "c664e2fc-36e0-40b5-a9dc-86a34d959e22",
   "metadata": {},
   "source": [
    "### Apply SMOTE on the data set"
   ]
  },
  {
   "cell_type": "code",
   "execution_count": 8,
   "id": "76bbda09-7c0f-480f-b836-a92f440a7625",
   "metadata": {},
   "outputs": [],
   "source": [
    "from imblearn.over_sampling import SMOTE\n",
    "# Apply SMOTE to balance the dataset\n",
    "smote = SMOTE(random_state=42)\n",
    "X_train, y_train = smote.fit_resample(X_train, y_train)"
   ]
  },
  {
   "cell_type": "markdown",
   "id": "cf204589-9b69-4c61-8afc-0b58182b5200",
   "metadata": {},
   "source": [
    "### Data Augmentation"
   ]
  },
  {
   "cell_type": "code",
   "execution_count": 9,
   "id": "afcd1995-c2c0-4fe9-a7d3-c1eda1a75069",
   "metadata": {},
   "outputs": [],
   "source": [
    "augmented_X_train = []\n",
    "augmented_y_train = []"
   ]
  },
  {
   "cell_type": "code",
   "execution_count": 10,
   "id": "0462fc44-ee37-4ae9-9b80-c46930c7cce8",
   "metadata": {},
   "outputs": [],
   "source": [
    "from skimage import transform, exposure\n",
    "from skimage.filters import gaussian\n",
    "import numpy as np\n",
    "for i in range(len(X_train)):\n",
    "    original_image = X_train[i].reshape(64, 64)\n",
    "\n",
    "    # Apply random rotation\n",
    "    rotated_image = transform.rotate(original_image, angle=np.random.uniform(-10, 10), mode='edge')\n",
    "\n",
    "    # Apply horizontal flip with 50% probability\n",
    "    flip_probability = np.random.choice([True, False])\n",
    "    flipped_image = np.fliplr(original_image) if flip_probability else rotated_image\n",
    "\n",
    "    # Apply random zoom \n",
    "    zoom_factor = np.random.uniform(0.8, 1.2)\n",
    "    zoomed_image = transform.rescale(original_image, scale=zoom_factor, mode='edge')\n",
    "\n",
    "    \n",
    "    # Apply sheared image\n",
    "    sheared_image = transform.warp(original_image, transform.AffineTransform(shear=np.random.uniform(-0.2, 0.2)))\n",
    "\n",
    "    # Apply Random Contrast Adjustment\n",
    "    gamma_corrected_image = exposure.adjust_gamma(original_image, gamma=np.random.uniform(0.5, 2.0))\n",
    "\n",
    "    # Apply random brightness factor\n",
    "    brightness_factor = np.random.uniform(0.5, 1.5)\n",
    "    brightened_image = exposure.adjust_gamma(original_image, gamma=brightness_factor)\n",
    "    brightened_image = transform.resize(brightened_image, (64, 64), mode='reflect')\n",
    "\n",
    "    # Apply gausian blur\n",
    "    blurred_image = gaussian(original_image, sigma=1)\n",
    "\n",
    "    \n",
    "     # Ensure consistent shape by resizing or cropping\n",
    "    rotated_image = transform.resize(rotated_image, (64, 64), mode='reflect')\n",
    "    flipped_image = transform.resize(flipped_image, (64, 64), mode='reflect')\n",
    "    zoomed_image = transform.resize(zoomed_image, (64, 64), mode='reflect')\n",
    "    sheared_image = transform.resize(sheared_image, (64, 64), mode='reflect')\n",
    "    gamma_corrected_image = transform.resize(gamma_corrected_image, (64, 64), mode='reflect')\n",
    "    brightened_image = transform.resize(brightened_image, (64, 64), mode='reflect')\n",
    "    blurred_image = transform.resize(blurred_image, (64, 64), mode='reflect')\n",
    "\n",
    "    # Append original and augmented images to the training set\n",
    "    augmented_X_train.extend([rotated_image.flatten() ,flipped_image.flatten() ,zoomed_image.flatten(), sheared_image.flatten(),  gamma_corrected_image.flatten(), brightened_image.flatten(), blurred_image.flatten()])\n",
    "    augmented_y_train.extend([y_train[i]] * 7)"
   ]
  },
  {
   "cell_type": "code",
   "execution_count": 11,
   "id": "2c1d45c2-cb84-4cd6-a38b-7aacaf6bee53",
   "metadata": {},
   "outputs": [],
   "source": [
    "# Convert to numpys array\n",
    "augmented_X_train = np.array(augmented_X_train)\n",
    "augmented_y_train = np.array(augmented_y_train)"
   ]
  },
  {
   "cell_type": "markdown",
   "id": "c3be37fa-a106-45bb-9d2e-4dc3bc1cd27e",
   "metadata": {},
   "source": [
    "### Feature Extraction"
   ]
  },
  {
   "cell_type": "code",
   "execution_count": 12,
   "id": "88cba4b0-2572-4867-b928-f45f30c213f3",
   "metadata": {},
   "outputs": [],
   "source": [
    "from sklearn import preprocessing\n",
    "scaler = preprocessing.StandardScaler()\n",
    "X_train = scaler.fit_transform(augmented_X_train)\n",
    "X_test = scaler.transform(X_test)"
   ]
  },
  {
   "cell_type": "code",
   "execution_count": 13,
   "id": "2e3e92aa-cf08-49b1-9970-ed033fc90c39",
   "metadata": {},
   "outputs": [],
   "source": [
    "from sklearn.decomposition import PCA\n",
    "# Apply PCA on the training set\n",
    "pca = PCA(n_components=150,svd_solver=\"arpack\",whiten=True)  # Adjust the number of components as needed\n",
    "X_train_pca = pca.fit_transform(X_train)\n",
    "\n",
    "# Apply the same PCA transformation to the test set\n",
    "X_test_pca = pca.transform(X_test)"
   ]
  },
  {
   "cell_type": "markdown",
   "id": "e99fa390-bf9a-47a7-95cc-0f1f88598e5f",
   "metadata": {},
   "source": [
    "### Train the model with SVM"
   ]
  },
  {
   "cell_type": "code",
   "execution_count": 14,
   "id": "54894202-f551-40d3-9896-82846718f011",
   "metadata": {},
   "outputs": [
    {
     "data": {
      "text/plain": [
       "0.708994708994709"
      ]
     },
     "execution_count": 14,
     "metadata": {},
     "output_type": "execute_result"
    }
   ],
   "source": [
    "from sklearn.svm import SVC\n",
    "from sklearn.metrics import accuracy_score\n",
    "\n",
    "# Create a new SVM classifier with the updated parameters\n",
    "best_svm = SVC(C=1, gamma=0.01, kernel='rbf', class_weight=\"balanced\")\n",
    "\n",
    "# Train the classifier on the training set\n",
    "best_svm.fit(X_train_pca, augmented_y_train)\n",
    "\n",
    "# Make predictions on the test set\n",
    "y_pred = best_svm.predict(X_test_pca)\n",
    "\n",
    "# Evaluate the accuracy\n",
    "accuracy = accuracy_score(y_test, y_pred)\n",
    "accuracy"
   ]
  },
  {
   "cell_type": "markdown",
   "id": "0e7f81cf-16c1-4af7-b960-4076de6f1eeb",
   "metadata": {},
   "source": [
    "### Evaluate the model"
   ]
  },
  {
   "cell_type": "code",
   "execution_count": 15,
   "id": "c9730f57-9be1-46a1-bf03-0b75fc53717d",
   "metadata": {},
   "outputs": [
    {
     "name": "stdout",
     "output_type": "stream",
     "text": [
      "Classification Report:\n",
      "                       precision    recall  f1-score   support\n",
      "\n",
      "     Alejandro_Toledo       0.54      0.58      0.56        12\n",
      "         Alvaro_Uribe       0.73      0.89      0.80         9\n",
      "      Amelie_Mauresmo       0.83      0.50      0.62        10\n",
      "         Andre_Agassi       0.50      0.40      0.44        10\n",
      "       Angelina_Jolie       0.43      0.50      0.46         6\n",
      "         Ariel_Sharon       0.67      0.78      0.72        18\n",
      "Arnold_Schwarzenegger       0.42      0.28      0.33        18\n",
      "          Atal_Bihari       0.80      0.57      0.67         7\n",
      "         Bill_Clinton       0.50      0.50      0.50         6\n",
      "         Carlos_Menem       0.43      0.60      0.50         5\n",
      "         Colin_Powell       0.88      0.86      0.87        71\n",
      "        David_Beckham       0.00      0.00      0.00         4\n",
      "      Donald_Rumsfeld       0.82      0.64      0.72        36\n",
      "     George_Robertson       0.67      0.80      0.73         5\n",
      "             George_W       0.88      0.84      0.86       123\n",
      "    Gerhard_Schroeder       0.72      0.76      0.74        17\n",
      "     Gloria_Macapagal       0.82      0.88      0.85        16\n",
      "           Gray_Davis       0.50      0.17      0.25         6\n",
      "      Guillermo_Coria       0.69      0.75      0.72        12\n",
      "         Hamid_Karzai       0.33      0.40      0.36         5\n",
      "            Hans_Blix       0.36      0.67      0.47         6\n",
      "          Hugo_Chavez       0.78      0.61      0.68        23\n",
      "          Igor_Ivanov       0.50      0.60      0.55         5\n",
      "           Jack_Straw       0.50      0.67      0.57         3\n",
      "       Jacques_Chirac       0.77      0.62      0.69        16\n",
      "        Jean_Chretien       0.55      0.67      0.60         9\n",
      "     Jennifer_Aniston       0.50      0.40      0.44         5\n",
      "    Jennifer_Capriati       0.50      0.42      0.45        12\n",
      "       Jennifer_Lopez       0.50      0.50      0.50         4\n",
      "    Jeremy_Greenstock       0.70      0.64      0.67        11\n",
      "          Jiang_Zemin       0.40      1.00      0.57         2\n",
      "        John_Ashcroft       0.82      0.75      0.78        12\n",
      "      John_Negroponte       0.67      0.25      0.36         8\n",
      "           Jose_Maria       0.25      1.00      0.40         2\n",
      "          Juan_Carlos       0.86      0.75      0.80         8\n",
      "    Junichiro_Koizumi       0.85      0.85      0.85        13\n",
      "           Kofi_Annan       0.75      0.75      0.75         8\n",
      "           Laura_Bush       0.77      1.00      0.87        10\n",
      "    Lindsay_Davenport       0.50      0.33      0.40         6\n",
      "       Lleyton_Hewitt       0.64      0.70      0.67        10\n",
      "          Luiz_Inacio       0.47      0.88      0.61         8\n",
      "        Mahmoud_Abbas       0.71      1.00      0.83         5\n",
      "Megawati_Sukarnoputri       0.90      0.90      0.90        10\n",
      "    Michael_Bloomberg       0.33      0.25      0.29         4\n",
      "          Naomi_Watts       0.60      0.60      0.60         5\n",
      "      Nestor_Kirchner       0.83      0.42      0.56        12\n",
      "          Paul_Bremer       0.83      0.83      0.83         6\n",
      "         Pete_Sampras       0.80      0.67      0.73         6\n",
      "         Recep_Tayyip       0.67      1.00      0.80         6\n",
      "        Ricardo_Lagos       0.67      0.50      0.57         4\n",
      "         Roh_Moo-hyun       0.75      1.00      0.86         9\n",
      "     Rudolph_Giuliani       0.25      0.40      0.31         5\n",
      "       Saddam_Hussein       1.00      1.00      1.00         6\n",
      "      Serena_Williams       0.60      0.86      0.71        14\n",
      "    Silvio_Berlusconi       0.57      0.57      0.57         7\n",
      "          Tiger_Woods       0.60      0.60      0.60         5\n",
      "          Tom_Daschle       0.67      0.80      0.73         5\n",
      "            Tom_Ridge       0.75      0.90      0.82        10\n",
      "           Tony_Blair       0.70      0.75      0.72        28\n",
      "          Vicente_Fox       1.00      0.62      0.76        13\n",
      "       Vladimir_Putin       0.69      0.85      0.76        13\n",
      "         Winona_Ryder       0.29      0.33      0.31         6\n",
      "\n",
      "             accuracy                           0.71       756\n",
      "            macro avg       0.63      0.65      0.62       756\n",
      "         weighted avg       0.73      0.71      0.71       756\n",
      "\n"
     ]
    }
   ],
   "source": [
    "from sklearn.metrics import classification_report\n",
    "\n",
    "# Print classification report\n",
    "print(\"Classification Report:\")\n",
    "print(classification_report(y_test, y_pred))"
   ]
  },
  {
   "cell_type": "code",
   "execution_count": 19,
   "id": "a52eeebc-81ad-4c69-982f-8ec4fd7f5c30",
   "metadata": {},
   "outputs": [
    {
     "data": {
      "image/png": "[encoded data removed]",
      "text/plain": [
       "<Figure size 800x600 with 1 Axes>"
      ]
     },
     "metadata": {},
     "output_type": "display_data"
    }
   ],
   "source": [
    "from sklearn.metrics import confusion_matrix\n",
    "import seaborn as sns\n",
    "import matplotlib.pyplot as plt\n",
    "\n",
    "# Calculate confusion matrix\n",
    "cm = confusion_matrix(y_test, y_pred)\n",
    "\n",
    "# Plot confusion matrix as a heatmap without numeric annotations\n",
    "plt.figure(figsize=(8, 6))\n",
    "sns.heatmap(cm, annot=False, cmap='Blues', cbar=False)  \n",
    "plt.xlabel('Predicted')\n",
    "plt.ylabel('True')\n",
    "plt.title('Confusion Matrix')\n",
    "plt.show()"
   ]
  },
  {
   "cell_type": "markdown",
   "id": "61eeae54-1bfa-4757-a71b-11b563b5e836",
   "metadata": {},
   "source": [
    "### Store the test set data in a folder, for model to predict"
   ]
  },
  {
   "cell_type": "markdown",
   "id": "c0039a92-abbb-485a-8d1d-1a365c7f0f04",
   "metadata": {},
   "source": [
    "1. Loop through X_test (25% of data set) and reshape it back (data already been pre processed) and store it in a new folder"
   ]
  },
  {
   "cell_type": "code",
   "execution_count": null,
   "id": "6af26ffe-be59-420e-aee5-2def8cc01cf6",
   "metadata": {},
   "outputs": [],
   "source": [
    "# Set the path to the new folder for further testing\n",
    "output_folder_path = 'further_testing'\n",
    "\n",
    "# Create the output folder if it doesn't exist\n",
    "os.makedirs(output_folder_path, exist_ok=True)\n",
    "\n",
    "# Loop through each image in X_test along with its label from y_test\n",
    "for i, (image_data, label) in enumerate(zip(X_test, y_test)):\n",
    "    # Convert the image data to uint8 format\n",
    "    image_data = (image_data * 255).astype(np.uint8)\n",
    "\n",
    "    # Restore the image to its original shape\n",
    "    original_shape = (64, 64)  # Assuming grayscale images\n",
    "    original_image = image_data.reshape(original_shape)\n",
    "\n",
    "    # Convert label to a valid filename format (replace any special characters)\n",
    "    label_filename = label.replace(\" \", \"_\")\n",
    "\n",
    "    # Save the image to the new folder with the label in the filename\n",
    "    output_image_path = os.path.join(output_folder_path, f'{label_filename}_image_{i}.jpg')\n",
    "    cv2.imwrite(output_image_path, original_image)\n",
    "\n",
    "print(\"Images saved to the new folder for further testing.\")"
   ]
  },
  {
   "cell_type": "markdown",
   "id": "7d670754-6437-4436-aebd-ea1d56d40616",
   "metadata": {},
   "source": [
    "2. Model will loop through the new folder and will predict all images"
   ]
  },
  {
   "cell_type": "code",
   "execution_count": 2,
   "id": "a6d9df3b-9a6a-4eca-a305-69f498b47aa4",
   "metadata": {},
   "outputs": [
    {
     "name": "stdout",
     "output_type": "stream",
     "text": [
      "Correct Predictions: 491\n",
      "Incorrect Predictions: 265\n"
     ]
    }
   ],
   "source": [
    "# Set the path to the folder for further testing\n",
    "further_testing_path = 'further_testing'\n",
    "best_svm = joblib.load('model.pkl')\n",
    "pca = joblib.load('pca.joblib')\n",
    "\n",
    "# Initialize counters for correct and incorrect predictions\n",
    "correct_predictions = 0\n",
    "incorrect_predictions = 0\n",
    "\n",
    "# Loop through each image in the further_testing dataset\n",
    "for image_filename in os.listdir(further_testing_path):\n",
    "    image_path = os.path.join(further_testing_path, image_filename)\n",
    "\n",
    "    # Load the preprocessed image data\n",
    "    image_data = cv2.imread(image_path, cv2.IMREAD_GRAYSCALE)  # Assuming images are grayscale\n",
    "    image_data = image_data.astype('float32') / 255.0  # Normalize to [0, 1]\n",
    "\n",
    "    # Reshape the image data to match the shape expected by the SVM model\n",
    "    image_data_flattened = image_data.flatten()\n",
    "\n",
    "    # Apply PCA transformation on the image data\n",
    "    image_data_pca = pca.transform([image_data_flattened])\n",
    "\n",
    "    # Use the trained SVM model to predict the label for the image data\n",
    "    predicted_label = best_svm.predict(image_data_pca)\n",
    "\n",
    "    # Extract the label from the image filename\n",
    "    actual_label = image_filename.split(\"_\")[0] + \"_\" + image_filename.split(\"_\")[1]\n",
    "\n",
    "    # Compare the predicted label with the actual label\n",
    "    if predicted_label[0] == actual_label:\n",
    "        correct_predictions += 1\n",
    "    else:\n",
    "        incorrect_predictions += 1\n",
    "\n",
    "# Print the final results\n",
    "print(f\"Correct Predictions: {correct_predictions}\")\n",
    "print(f\"Incorrect Predictions: {incorrect_predictions}\")\n"
   ]
  },
  {
   "cell_type": "markdown",
   "id": "d4313f0f-1cd8-4e56-a309-3a42b60cf1e3",
   "metadata": {},
   "source": [
    "### Deployment"
   ]
  },
  {
   "cell_type": "code",
   "execution_count": 17,
   "id": "9df43928-78eb-4fd1-a0d2-93d3976d4c42",
   "metadata": {},
   "outputs": [
    {
     "data": {
      "text/plain": [
       "['model.pkl']"
      ]
     },
     "execution_count": 17,
     "metadata": {},
     "output_type": "execute_result"
    }
   ],
   "source": [
    "joblib.dump(best_svm, 'model.pkl')"
   ]
  },
  {
   "cell_type": "code",
   "execution_count": 18,
   "id": "e9a2d09f-2f77-4272-95fe-d260660ed11d",
   "metadata": {},
   "outputs": [
    {
     "data": {
      "text/plain": [
       "['pca.joblib']"
      ]
     },
     "execution_count": 18,
     "metadata": {},
     "output_type": "execute_result"
    }
   ],
   "source": [
    "joblib.dump(pca, 'pca.joblib')"
   ]
  },
  {
   "cell_type": "markdown",
   "id": "714d7bbb-e3eb-4def-8928-b720c5d43a2c",
   "metadata": {},
   "source": [
    "Check app.py to test the model"
   ]
  }
 ],
 "metadata": {
  "kernelspec": {
   "display_name": "Python 3 (ipykernel)",
   "language": "python",
   "name": "python3"
  },
  "language_info": {
   "codemirror_mode": {
    "name": "ipython",
    "version": 3
   },
   "file_extension": ".py",
   "mimetype": "text/x-python",
   "name": "python",
   "nbconvert_exporter": "python",
   "pygments_lexer": "ipython3",
   "version": "3.12.5"
  }
 },
 "nbformat": 4,
 "nbformat_minor": 5
}
